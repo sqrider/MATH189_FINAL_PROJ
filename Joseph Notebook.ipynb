{
 "cells": [
  {
   "cell_type": "code",
   "execution_count": 82,
   "metadata": {},
   "outputs": [],
   "source": [
    "from matplotlib import pyplot as plt\n",
    "from statsmodels.graphics.gofplots import qqplot\n",
    "import numpy as np\n",
    "import pandas as pd\n",
    "import os\n",
    "import math\n",
    "import scipy.stats as stats\n",
    "import copy\n",
    "import functools\n",
    "import statistics\n",
    "\n",
    "%matplotlib inline"
   ]
  },
  {
   "cell_type": "code",
   "execution_count": 28,
   "metadata": {
    "scrolled": false
   },
   "outputs": [],
   "source": [
    "from trackml.dataset import load_event\n",
    "hits_list = [load_event('data/train_100_events/event00000' + str(i))[0] for i in range (1000,1100)]\n",
    "hits = pd.concat(hits_list, axis = 0)\n",
    "cells_list = [load_event('data/train_100_events/event00000' + str(i))[1] for i in range (1000,1100)]\n",
    "cells = pd.concat(cells_list, axis = 0)\n",
    "particles_list = [load_event('data/train_100_events/event00000' + str(i))[2] for i in range (1000,1100)]\n",
    "particles = pd.concat(particles_list, axis = 0)\n",
    "truth_list = [load_event('data/train_100_events/event00000' + str(i))[3] for i in range (1000,1100)]\n",
    "truth = pd.concat(truth_list, axis = 0)"
   ]
  },
  {
   "cell_type": "code",
   "execution_count": 83,
   "metadata": {},
   "outputs": [],
   "source": [
    "def expected_freq_computation_continuous(cdf,partition_separators,n):\n",
    "    expected_freq = []\n",
    "    for i in range(0,len(partition_separators) + 1):\n",
    "        if i == 0:\n",
    "            sep_1 = partition_separators[i]\n",
    "            expected_freq.append(cdf(sep_1)*n)\n",
    "        elif i == len(partition_separators):\n",
    "            sep_2 = partition_separators[i-1]\n",
    "            expected_freq.append((1-cdf(sep_2))*n)\n",
    "        else:\n",
    "            sep_1 = partition_separators[i]\n",
    "            sep_2 = partition_separators[i-1]\n",
    "            expected_freq.append((cdf(sep_1) - cdf(sep_2))*n)\n",
    "    return expected_freq\n",
    "\n",
    "def merge_partition(i_lower, ps, c):\n",
    "    counts = copy.deepcopy(c)\n",
    "    partition_separators = copy.deepcopy(ps)\n",
    "    i = i_lower\n",
    "    counts[i+1] = counts[i] + counts[i+1]\n",
    "    del counts[i]\n",
    "    del partition_separators[i]\n",
    "    return (partition_separators, counts)"
   ]
  },
  {
   "cell_type": "code",
   "execution_count": 84,
   "metadata": {},
   "outputs": [
    {
     "data": {
      "text/html": [
       "<div>\n",
       "<style scoped>\n",
       "    .dataframe tbody tr th:only-of-type {\n",
       "        vertical-align: middle;\n",
       "    }\n",
       "\n",
       "    .dataframe tbody tr th {\n",
       "        vertical-align: top;\n",
       "    }\n",
       "\n",
       "    .dataframe thead th {\n",
       "        text-align: right;\n",
       "    }\n",
       "</style>\n",
       "<table border=\"1\" class=\"dataframe\">\n",
       "  <thead>\n",
       "    <tr style=\"text-align: right;\">\n",
       "      <th></th>\n",
       "      <th>hit_id</th>\n",
       "      <th>x</th>\n",
       "      <th>y</th>\n",
       "      <th>z</th>\n",
       "      <th>volume_id</th>\n",
       "      <th>layer_id</th>\n",
       "      <th>module_id</th>\n",
       "    </tr>\n",
       "  </thead>\n",
       "  <tbody>\n",
       "    <tr>\n",
       "      <th>0</th>\n",
       "      <td>1</td>\n",
       "      <td>-64.409897</td>\n",
       "      <td>-7.163700</td>\n",
       "      <td>-1502.5</td>\n",
       "      <td>7</td>\n",
       "      <td>2</td>\n",
       "      <td>1</td>\n",
       "    </tr>\n",
       "    <tr>\n",
       "      <th>1</th>\n",
       "      <td>2</td>\n",
       "      <td>-55.336102</td>\n",
       "      <td>0.635342</td>\n",
       "      <td>-1502.5</td>\n",
       "      <td>7</td>\n",
       "      <td>2</td>\n",
       "      <td>1</td>\n",
       "    </tr>\n",
       "    <tr>\n",
       "      <th>2</th>\n",
       "      <td>3</td>\n",
       "      <td>-83.830498</td>\n",
       "      <td>-1.143010</td>\n",
       "      <td>-1502.5</td>\n",
       "      <td>7</td>\n",
       "      <td>2</td>\n",
       "      <td>1</td>\n",
       "    </tr>\n",
       "    <tr>\n",
       "      <th>3</th>\n",
       "      <td>4</td>\n",
       "      <td>-96.109100</td>\n",
       "      <td>-8.241030</td>\n",
       "      <td>-1502.5</td>\n",
       "      <td>7</td>\n",
       "      <td>2</td>\n",
       "      <td>1</td>\n",
       "    </tr>\n",
       "    <tr>\n",
       "      <th>4</th>\n",
       "      <td>5</td>\n",
       "      <td>-62.673599</td>\n",
       "      <td>-9.371200</td>\n",
       "      <td>-1502.5</td>\n",
       "      <td>7</td>\n",
       "      <td>2</td>\n",
       "      <td>1</td>\n",
       "    </tr>\n",
       "  </tbody>\n",
       "</table>\n",
       "</div>"
      ],
      "text/plain": [
       "   hit_id          x         y       z  volume_id  layer_id  module_id\n",
       "0       1 -64.409897 -7.163700 -1502.5          7         2          1\n",
       "1       2 -55.336102  0.635342 -1502.5          7         2          1\n",
       "2       3 -83.830498 -1.143010 -1502.5          7         2          1\n",
       "3       4 -96.109100 -8.241030 -1502.5          7         2          1\n",
       "4       5 -62.673599 -9.371200 -1502.5          7         2          1"
      ]
     },
     "execution_count": 84,
     "metadata": {},
     "output_type": "execute_result"
    }
   ],
   "source": [
    "hits.head()"
   ]
  },
  {
   "cell_type": "code",
   "execution_count": 85,
   "metadata": {},
   "outputs": [
    {
     "data": {
      "text/html": [
       "<div>\n",
       "<style scoped>\n",
       "    .dataframe tbody tr th:only-of-type {\n",
       "        vertical-align: middle;\n",
       "    }\n",
       "\n",
       "    .dataframe tbody tr th {\n",
       "        vertical-align: top;\n",
       "    }\n",
       "\n",
       "    .dataframe thead th {\n",
       "        text-align: right;\n",
       "    }\n",
       "</style>\n",
       "<table border=\"1\" class=\"dataframe\">\n",
       "  <thead>\n",
       "    <tr style=\"text-align: right;\">\n",
       "      <th></th>\n",
       "      <th>hit_id</th>\n",
       "      <th>ch0</th>\n",
       "      <th>ch1</th>\n",
       "      <th>value</th>\n",
       "    </tr>\n",
       "  </thead>\n",
       "  <tbody>\n",
       "    <tr>\n",
       "      <th>0</th>\n",
       "      <td>1</td>\n",
       "      <td>209</td>\n",
       "      <td>617</td>\n",
       "      <td>0.013832</td>\n",
       "    </tr>\n",
       "    <tr>\n",
       "      <th>1</th>\n",
       "      <td>1</td>\n",
       "      <td>210</td>\n",
       "      <td>617</td>\n",
       "      <td>0.079887</td>\n",
       "    </tr>\n",
       "    <tr>\n",
       "      <th>2</th>\n",
       "      <td>1</td>\n",
       "      <td>209</td>\n",
       "      <td>618</td>\n",
       "      <td>0.211723</td>\n",
       "    </tr>\n",
       "    <tr>\n",
       "      <th>3</th>\n",
       "      <td>2</td>\n",
       "      <td>68</td>\n",
       "      <td>446</td>\n",
       "      <td>0.334087</td>\n",
       "    </tr>\n",
       "    <tr>\n",
       "      <th>4</th>\n",
       "      <td>3</td>\n",
       "      <td>58</td>\n",
       "      <td>954</td>\n",
       "      <td>0.034005</td>\n",
       "    </tr>\n",
       "  </tbody>\n",
       "</table>\n",
       "</div>"
      ],
      "text/plain": [
       "   hit_id  ch0  ch1     value\n",
       "0       1  209  617  0.013832\n",
       "1       1  210  617  0.079887\n",
       "2       1  209  618  0.211723\n",
       "3       2   68  446  0.334087\n",
       "4       3   58  954  0.034005"
      ]
     },
     "execution_count": 85,
     "metadata": {},
     "output_type": "execute_result"
    }
   ],
   "source": [
    "cells.head()"
   ]
  },
  {
   "cell_type": "code",
   "execution_count": 86,
   "metadata": {},
   "outputs": [
    {
     "data": {
      "text/html": [
       "<div>\n",
       "<style scoped>\n",
       "    .dataframe tbody tr th:only-of-type {\n",
       "        vertical-align: middle;\n",
       "    }\n",
       "\n",
       "    .dataframe tbody tr th {\n",
       "        vertical-align: top;\n",
       "    }\n",
       "\n",
       "    .dataframe thead th {\n",
       "        text-align: right;\n",
       "    }\n",
       "</style>\n",
       "<table border=\"1\" class=\"dataframe\">\n",
       "  <thead>\n",
       "    <tr style=\"text-align: right;\">\n",
       "      <th></th>\n",
       "      <th>particle_id</th>\n",
       "      <th>vx</th>\n",
       "      <th>vy</th>\n",
       "      <th>vz</th>\n",
       "      <th>px</th>\n",
       "      <th>py</th>\n",
       "      <th>pz</th>\n",
       "      <th>q</th>\n",
       "      <th>nhits</th>\n",
       "    </tr>\n",
       "  </thead>\n",
       "  <tbody>\n",
       "    <tr>\n",
       "      <th>0</th>\n",
       "      <td>4503668346847232</td>\n",
       "      <td>-0.009288</td>\n",
       "      <td>0.009861</td>\n",
       "      <td>-0.077879</td>\n",
       "      <td>-0.055269</td>\n",
       "      <td>0.323272</td>\n",
       "      <td>-0.203492</td>\n",
       "      <td>-1</td>\n",
       "      <td>8</td>\n",
       "    </tr>\n",
       "    <tr>\n",
       "      <th>1</th>\n",
       "      <td>4503737066323968</td>\n",
       "      <td>-0.009288</td>\n",
       "      <td>0.009861</td>\n",
       "      <td>-0.077879</td>\n",
       "      <td>-0.948125</td>\n",
       "      <td>0.470892</td>\n",
       "      <td>2.010060</td>\n",
       "      <td>1</td>\n",
       "      <td>11</td>\n",
       "    </tr>\n",
       "    <tr>\n",
       "      <th>2</th>\n",
       "      <td>4503805785800704</td>\n",
       "      <td>-0.009288</td>\n",
       "      <td>0.009861</td>\n",
       "      <td>-0.077879</td>\n",
       "      <td>-0.886484</td>\n",
       "      <td>0.105749</td>\n",
       "      <td>0.683881</td>\n",
       "      <td>-1</td>\n",
       "      <td>0</td>\n",
       "    </tr>\n",
       "    <tr>\n",
       "      <th>3</th>\n",
       "      <td>4503874505277440</td>\n",
       "      <td>-0.009288</td>\n",
       "      <td>0.009861</td>\n",
       "      <td>-0.077879</td>\n",
       "      <td>0.257539</td>\n",
       "      <td>-0.676718</td>\n",
       "      <td>0.991616</td>\n",
       "      <td>1</td>\n",
       "      <td>12</td>\n",
       "    </tr>\n",
       "    <tr>\n",
       "      <th>4</th>\n",
       "      <td>4503943224754176</td>\n",
       "      <td>-0.009288</td>\n",
       "      <td>0.009861</td>\n",
       "      <td>-0.077879</td>\n",
       "      <td>16.439400</td>\n",
       "      <td>-15.548900</td>\n",
       "      <td>-39.824902</td>\n",
       "      <td>1</td>\n",
       "      <td>3</td>\n",
       "    </tr>\n",
       "  </tbody>\n",
       "</table>\n",
       "</div>"
      ],
      "text/plain": [
       "        particle_id        vx        vy        vz         px         py  \\\n",
       "0  4503668346847232 -0.009288  0.009861 -0.077879  -0.055269   0.323272   \n",
       "1  4503737066323968 -0.009288  0.009861 -0.077879  -0.948125   0.470892   \n",
       "2  4503805785800704 -0.009288  0.009861 -0.077879  -0.886484   0.105749   \n",
       "3  4503874505277440 -0.009288  0.009861 -0.077879   0.257539  -0.676718   \n",
       "4  4503943224754176 -0.009288  0.009861 -0.077879  16.439400 -15.548900   \n",
       "\n",
       "          pz  q  nhits  \n",
       "0  -0.203492 -1      8  \n",
       "1   2.010060  1     11  \n",
       "2   0.683881 -1      0  \n",
       "3   0.991616  1     12  \n",
       "4 -39.824902  1      3  "
      ]
     },
     "execution_count": 86,
     "metadata": {},
     "output_type": "execute_result"
    }
   ],
   "source": [
    "particles.head()"
   ]
  },
  {
   "cell_type": "code",
   "execution_count": 87,
   "metadata": {},
   "outputs": [
    {
     "data": {
      "text/html": [
       "<div>\n",
       "<style scoped>\n",
       "    .dataframe tbody tr th:only-of-type {\n",
       "        vertical-align: middle;\n",
       "    }\n",
       "\n",
       "    .dataframe tbody tr th {\n",
       "        vertical-align: top;\n",
       "    }\n",
       "\n",
       "    .dataframe thead th {\n",
       "        text-align: right;\n",
       "    }\n",
       "</style>\n",
       "<table border=\"1\" class=\"dataframe\">\n",
       "  <thead>\n",
       "    <tr style=\"text-align: right;\">\n",
       "      <th></th>\n",
       "      <th>hit_id</th>\n",
       "      <th>particle_id</th>\n",
       "      <th>tx</th>\n",
       "      <th>ty</th>\n",
       "      <th>tz</th>\n",
       "      <th>tpx</th>\n",
       "      <th>tpy</th>\n",
       "      <th>tpz</th>\n",
       "      <th>weight</th>\n",
       "    </tr>\n",
       "  </thead>\n",
       "  <tbody>\n",
       "    <tr>\n",
       "      <th>0</th>\n",
       "      <td>1</td>\n",
       "      <td>0</td>\n",
       "      <td>-64.411598</td>\n",
       "      <td>-7.164120</td>\n",
       "      <td>-1502.5</td>\n",
       "      <td>250710.000000</td>\n",
       "      <td>-149908.000000</td>\n",
       "      <td>-956385.00000</td>\n",
       "      <td>0.000000</td>\n",
       "    </tr>\n",
       "    <tr>\n",
       "      <th>1</th>\n",
       "      <td>2</td>\n",
       "      <td>22525763437723648</td>\n",
       "      <td>-55.338501</td>\n",
       "      <td>0.630805</td>\n",
       "      <td>-1502.5</td>\n",
       "      <td>-0.570605</td>\n",
       "      <td>0.028390</td>\n",
       "      <td>-15.49220</td>\n",
       "      <td>0.000010</td>\n",
       "    </tr>\n",
       "    <tr>\n",
       "      <th>2</th>\n",
       "      <td>3</td>\n",
       "      <td>0</td>\n",
       "      <td>-83.828003</td>\n",
       "      <td>-1.145580</td>\n",
       "      <td>-1502.5</td>\n",
       "      <td>626295.000000</td>\n",
       "      <td>-169767.000000</td>\n",
       "      <td>-760877.00000</td>\n",
       "      <td>0.000000</td>\n",
       "    </tr>\n",
       "    <tr>\n",
       "      <th>3</th>\n",
       "      <td>4</td>\n",
       "      <td>297237712845406208</td>\n",
       "      <td>-96.122902</td>\n",
       "      <td>-8.230360</td>\n",
       "      <td>-1502.5</td>\n",
       "      <td>-0.225235</td>\n",
       "      <td>-0.050968</td>\n",
       "      <td>-3.70232</td>\n",
       "      <td>0.000008</td>\n",
       "    </tr>\n",
       "    <tr>\n",
       "      <th>4</th>\n",
       "      <td>5</td>\n",
       "      <td>418835796137607168</td>\n",
       "      <td>-62.659401</td>\n",
       "      <td>-9.375040</td>\n",
       "      <td>-1502.5</td>\n",
       "      <td>-0.281806</td>\n",
       "      <td>-0.023487</td>\n",
       "      <td>-6.57318</td>\n",
       "      <td>0.000009</td>\n",
       "    </tr>\n",
       "  </tbody>\n",
       "</table>\n",
       "</div>"
      ],
      "text/plain": [
       "   hit_id         particle_id         tx        ty      tz            tpx  \\\n",
       "0       1                   0 -64.411598 -7.164120 -1502.5  250710.000000   \n",
       "1       2   22525763437723648 -55.338501  0.630805 -1502.5      -0.570605   \n",
       "2       3                   0 -83.828003 -1.145580 -1502.5  626295.000000   \n",
       "3       4  297237712845406208 -96.122902 -8.230360 -1502.5      -0.225235   \n",
       "4       5  418835796137607168 -62.659401 -9.375040 -1502.5      -0.281806   \n",
       "\n",
       "             tpy           tpz    weight  \n",
       "0 -149908.000000 -956385.00000  0.000000  \n",
       "1       0.028390     -15.49220  0.000010  \n",
       "2 -169767.000000 -760877.00000  0.000000  \n",
       "3      -0.050968      -3.70232  0.000008  \n",
       "4      -0.023487      -6.57318  0.000009  "
      ]
     },
     "execution_count": 87,
     "metadata": {},
     "output_type": "execute_result"
    }
   ],
   "source": [
    "truth.head()"
   ]
  },
  {
   "cell_type": "code",
   "execution_count": 88,
   "metadata": {},
   "outputs": [
    {
     "data": {
      "text/plain": [
       "9712314"
      ]
     },
     "execution_count": 88,
     "metadata": {},
     "output_type": "execute_result"
    }
   ],
   "source": [
    "particles.size"
   ]
  },
  {
   "cell_type": "code",
   "execution_count": 89,
   "metadata": {},
   "outputs": [
    {
     "data": {
      "text/plain": [
       "(array([2.33126e+05, 5.10850e+04, 8.50300e+04, 8.16000e+04, 2.26186e+05,\n",
       "        3.45775e+05, 5.08740e+04, 5.39800e+03, 6.50000e+01, 7.00000e+00]),\n",
       " array([ 0. ,  2.4,  4.8,  7.2,  9.6, 12. , 14.4, 16.8, 19.2, 21.6, 24. ]),\n",
       " <a list of 10 Patch objects>)"
      ]
     },
     "execution_count": 89,
     "metadata": {},
     "output_type": "execute_result"
    },
    {
     "data": {
      "image/png": "[encoded data removed]",
      "text/plain": [
       "<matplotlib.figure.Figure at 0x295aed6c940>"
      ]
     },
     "metadata": {},
     "output_type": "display_data"
    }
   ],
   "source": [
    "plt.xlabel('Hits')\n",
    "plt.ylabel('Counts')\n",
    "plt.title('Histogram of Hits Per Particle')\n",
    "plt.hist(particles.nhits)"
   ]
  },
  {
   "cell_type": "code",
   "execution_count": 90,
   "metadata": {},
   "outputs": [],
   "source": [
    "pos_part = particles[particles.q == 1]\n",
    "neg_part = particles[particles.q == -1]"
   ]
  },
  {
   "cell_type": "code",
   "execution_count": 91,
   "metadata": {},
   "outputs": [
    {
     "data": {
      "text/plain": [
       "(array([1.45133e+05, 3.07830e+04, 3.35920e+04, 6.09430e+04, 1.11618e+05,\n",
       "        1.41537e+05, 6.95210e+04, 3.09100e+03, 2.10000e+02, 1.30000e+01]),\n",
       " array([ 0. ,  2.3,  4.6,  6.9,  9.2, 11.5, 13.8, 16.1, 18.4, 20.7, 23. ]),\n",
       " <a list of 10 Patch objects>)"
      ]
     },
     "execution_count": 91,
     "metadata": {},
     "output_type": "execute_result"
    },
    {
     "data": {
      "image/png": "[encoded data removed]",
      "text/plain": [
       "<matplotlib.figure.Figure at 0x295a5cb3da0>"
      ]
     },
     "metadata": {},
     "output_type": "display_data"
    }
   ],
   "source": [
    "plt.xlabel('Hits')\n",
    "plt.ylabel('Counts')\n",
    "plt.title('Histogram of Hits Per Positively Charged Particle')\n",
    "plt.hist(pos_part.nhits)"
   ]
  },
  {
   "cell_type": "code",
   "execution_count": 92,
   "metadata": {},
   "outputs": [
    {
     "data": {
      "text/plain": [
       "(array([8.79930e+04, 2.03020e+04, 3.41450e+04, 3.79500e+04, 1.14568e+05,\n",
       "        1.63092e+05, 2.24990e+04, 2.13500e+03, 1.90000e+01, 2.00000e+00]),\n",
       " array([ 0. ,  2.4,  4.8,  7.2,  9.6, 12. , 14.4, 16.8, 19.2, 21.6, 24. ]),\n",
       " <a list of 10 Patch objects>)"
      ]
     },
     "execution_count": 92,
     "metadata": {},
     "output_type": "execute_result"
    },
    {
     "data": {
      "image/png": "[encoded data removed]",
      "text/plain": [
       "<matplotlib.figure.Figure at 0x295a5d352e8>"
      ]
     },
     "metadata": {},
     "output_type": "display_data"
    }
   ],
   "source": [
    "plt.xlabel('Hits')\n",
    "plt.ylabel('Counts')\n",
    "plt.title('Histogram of Hits Per Negatively Charged Particle')\n",
    "plt.hist(neg_part.nhits)"
   ]
  },
  {
   "cell_type": "code",
   "execution_count": 93,
   "metadata": {},
   "outputs": [
    {
     "data": {
      "image/png": "[encoded data removed]",
      "text/plain": [
       "<matplotlib.figure.Figure at 0x295ace26e80>"
      ]
     },
     "metadata": {},
     "output_type": "display_data"
    }
   ],
   "source": [
    "fig = qqplot(particles.nhits, fit = True, line='s')\n"
   ]
  },
  {
   "cell_type": "markdown",
   "metadata": {},
   "source": [
    "## Attempting to Deal with Bimodality\n",
    "\n",
    "Through truncating the data"
   ]
  },
  {
   "cell_type": "code",
   "execution_count": 94,
   "metadata": {
    "scrolled": true
   },
   "outputs": [
    {
     "data": {
      "image/png": "[encoded data removed]",
      "text/plain": [
       "<matplotlib.figure.Figure at 0x295a5d7e588>"
      ]
     },
     "metadata": {},
     "output_type": "display_data"
    }
   ],
   "source": [
    "trunc_nhits = particles[particles.nhits >3].nhits\n",
    "fig = qqplot(trunc_nhits, line='s')"
   ]
  },
  {
   "cell_type": "markdown",
   "metadata": {},
   "source": [
    "### Analysis\n",
    "\n",
    "What is going on with these QQ Plots?"
   ]
  },
  {
   "cell_type": "code",
   "execution_count": 95,
   "metadata": {
    "scrolled": false
   },
   "outputs": [
    {
     "data": {
      "text/plain": [
       "(array([5.43260e+04, 5.71710e+04, 8.16000e+04, 2.26186e+05, 2.70160e+05,\n",
       "        1.12117e+05, 1.86080e+04, 1.16200e+03, 6.50000e+01, 7.00000e+00]),\n",
       " array([ 4.,  6.,  8., 10., 12., 14., 16., 18., 20., 22., 24.]),\n",
       " <a list of 10 Patch objects>)"
      ]
     },
     "execution_count": 95,
     "metadata": {},
     "output_type": "execute_result"
    },
    {
     "data": {
      "image/png": "[encoded data removed]",
      "text/plain": [
       "<matplotlib.figure.Figure at 0x295b81ae780>"
      ]
     },
     "metadata": {},
     "output_type": "display_data"
    }
   ],
   "source": [
    "plt.xlabel('Hits')\n",
    "plt.ylabel('Counts')\n",
    "plt.title('Histogram of Hits Per Particle >3')\n",
    "plt.hist(trunc_nhits)"
   ]
  },
  {
   "cell_type": "markdown",
   "metadata": {},
   "source": [
    "# Adding Noise Because Discrete Data Looks Weird\n",
    "\n",
    "Hudson's Idea"
   ]
  },
  {
   "cell_type": "code",
   "execution_count": 96,
   "metadata": {},
   "outputs": [
    {
     "data": {
      "image/png": "[encoded data removed]",
      "text/plain": [
       "<matplotlib.figure.Figure at 0x295b81d0a90>"
      ]
     },
     "metadata": {},
     "output_type": "display_data"
    }
   ],
   "source": [
    "s = 0.0001\n",
    "eps = np.random.normal(0,s, trunc_nhits.shape)\n",
    "trunc_nhits_random = trunc_nhits + eps\n",
    "\n",
    "fig = qqplot(trunc_nhits_random, line='s')"
   ]
  },
  {
   "cell_type": "markdown",
   "metadata": {},
   "source": [
    "# Analysis\n",
    "\n",
    "By adding noise, we see that normality is restored, so we can trust that QQ-plot is working"
   ]
  },
  {
   "cell_type": "markdown",
   "metadata": {},
   "source": [
    "# Is total hits in an event normally distributed?"
   ]
  },
  {
   "cell_type": "code",
   "execution_count": 97,
   "metadata": {},
   "outputs": [
    {
     "data": {
      "image/png": "[encoded data removed]",
      "text/plain": [
       "<matplotlib.figure.Figure at 0x295b956bc50>"
      ]
     },
     "metadata": {},
     "output_type": "display_data"
    }
   ],
   "source": [
    "hits_per_event = [hits.shape[0] for hits in hits_list]\n",
    "\n",
    "plt.xlabel('Hits')\n",
    "plt.ylabel('Counts')\n",
    "plt.title('Histogram of Total Hits Per Event')\n",
    "hpe_counts, hpe_partition, _ = plt.hist(hits_per_event)\n",
    "hpe_counts = list(hpe_counts)\n",
    "hpe_partition = list(hpe_partition)\n"
   ]
  },
  {
   "cell_type": "markdown",
   "metadata": {},
   "source": [
    "## Chi-Square Test"
   ]
  },
  {
   "cell_type": "code",
   "execution_count": 98,
   "metadata": {
    "scrolled": true
   },
   "outputs": [
    {
     "data": {
      "text/plain": [
       "Power_divergenceResult(statistic=6.369156618725524, pvalue=0.09496795668496887)"
      ]
     },
     "execution_count": 98,
     "metadata": {},
     "output_type": "execute_result"
    }
   ],
   "source": [
    "\n",
    "hpe_counts.insert(0,0)\n",
    "hpe_counts.append(0)\n",
    "hpe_partition, hpe_counts = merge_partition(0,hpe_partition,hpe_counts)                                           \n",
    "hpe_partition, hpe_counts = merge_partition(0,hpe_partition,hpe_counts)\n",
    "hpe_partition, hpe_counts = merge_partition(0,hpe_partition,hpe_counts)\n",
    "hpe_partition, hpe_counts = merge_partition(len(hpe_partition)-1, hpe_partition, hpe_counts)\n",
    "hpe_partition, hpe_counts = merge_partition(len(hpe_partition)-1, hpe_partition, hpe_counts)\n",
    "hpe_partition, hpe_counts = merge_partition(len(hpe_partition)-1, hpe_partition, hpe_counts)\n",
    "\n",
    "partial_norm_cdf = functools.partial(stats.norm.cdf, loc = statistics.mean(hits_per_event), scale = statistics.stdev(hits_per_event))\n",
    "expected_counts = expected_freq_computation_continuous(partial_norm_cdf,hpe_partition,sum(hpe_counts))\n",
    "stats.chisquare(hpe_counts,expected_counts, 2)"
   ]
  },
  {
   "cell_type": "code",
   "execution_count": 99,
   "metadata": {},
   "outputs": [
    {
     "data": {
      "image/png": "[encoded data removed]",
      "text/plain": [
       "<matplotlib.figure.Figure at 0x295b824b438>"
      ]
     },
     "metadata": {},
     "output_type": "display_data"
    }
   ],
   "source": [
    "fig = qqplot(np.array(hits_per_event), line='s')"
   ]
  },
  {
   "cell_type": "markdown",
   "metadata": {},
   "source": [
    "## Conclusion\n",
    "\n",
    "The total number of hist per event is normally distributed.\n",
    "QQ-plot shows this and we also fail to reject the null hypothesis in the chi-square test"
   ]
  },
  {
   "cell_type": "markdown",
   "metadata": {},
   "source": [
    "# \"Most Normal\" Chopping Off From Bimodal\n",
    "\n",
    "Attempting to look for the most normally shaped truncation of the data. We use the first 30 events to use as a 'training set' so then we can test on the remaining 70 events."
   ]
  },
  {
   "cell_type": "code",
   "execution_count": 100,
   "metadata": {},
   "outputs": [
    {
     "data": {
      "text/plain": [
       "(array([7.3463e+04, 1.6164e+04, 1.7465e+04, 3.4523e+04, 7.1492e+04,\n",
       "        8.4818e+04, 3.9726e+04, 1.6020e+03, 8.2000e+01, 5.0000e+00]),\n",
       " array([ 0. ,  2.3,  4.6,  6.9,  9.2, 11.5, 13.8, 16.1, 18.4, 20.7, 23. ]),\n",
       " <a list of 10 Patch objects>)"
      ]
     },
     "execution_count": 100,
     "metadata": {},
     "output_type": "execute_result"
    },
    {
     "data": {
      "image/png": "[encoded data removed]",
      "text/plain": [
       "<matplotlib.figure.Figure at 0x295c7b51940>"
      ]
     },
     "metadata": {},
     "output_type": "display_data"
    }
   ],
   "source": [
    "first_30_events_particles = pd.concat(particles_list[0:30], axis = 0) # for training\n",
    "part_nhits_30 = first_30_events_particles.nhits\n",
    "plt.xlabel('Hits')\n",
    "plt.ylabel('Counts')\n",
    "plt.title('Histogram of Hits Per Particle from 30 events')\n",
    "plt.hist(part_nhits_30)"
   ]
  },
  {
   "cell_type": "code",
   "execution_count": 101,
   "metadata": {
    "scrolled": true
   },
   "outputs": [
    {
     "name": "stdout",
     "output_type": "stream",
     "text": [
      "0.00015139840946522184\n"
     ]
    },
    {
     "name": "stderr",
     "output_type": "stream",
     "text": [
      "C:\\Users\\acer\\Anaconda3\\lib\\site-packages\\scipy\\stats\\stats.py:1390: UserWarning: kurtosistest only valid for n>=20 ... continuing anyway, n=18\n",
      "  \"anyway, n=%i\" % int(n))\n"
     ]
    }
   ],
   "source": [
    "p_val_list = []\n",
    "for i in range (min(part_nhits_30)-1,max(part_nhits_30)):\n",
    "    trunc_i = first_30_events_particles[first_30_events_particles.nhits > i].nhits.tolist()\n",
    "    if(len(trunc_i) > 11):\n",
    "        stat, pval = stats.normaltest(trunc_i)\n",
    "        p_val_list.append(pval)\n",
    "print(max(p_val_list))"
   ]
  },
  {
   "cell_type": "markdown",
   "metadata": {},
   "source": [
    "## Analysis\n",
    "\n",
    "Garbage, P-values were all small! Couldn't extract normality even in training!"
   ]
  },
  {
   "cell_type": "markdown",
   "metadata": {},
   "source": [
    "# Is the proportion of particles never detected constant across each collision?\n",
    "\n",
    "Hypothesis: the proportion should be normal with a 'small' variance"
   ]
  },
  {
   "cell_type": "code",
   "execution_count": 102,
   "metadata": {},
   "outputs": [
    {
     "data": {
      "image/png": "[encoded data removed]",
      "text/plain": [
       "<matplotlib.figure.Figure at 0x295c165bac8>"
      ]
     },
     "metadata": {},
     "output_type": "display_data"
    }
   ],
   "source": [
    "p_list = []\n",
    "for i in range(0, len(hits_list)):\n",
    "    no_hits_count = 0\n",
    "    for j in range(0,particles_list[i].shape[0]):\n",
    "        if particles_list[i]['nhits'][j] == 0:\n",
    "            no_hits_count += 1\n",
    "    p_list.append(float(no_hits_count)/float(hits_list[i].shape[0]))\n",
    "\n",
    "plt.xlabel('$\\hat{p}$')\n",
    "plt.ylabel('Counts')\n",
    "plt.title('Histogram of Proportion of Particles Never Detected')\n",
    "hpe_counts, hpe_partition, _ = plt.hist(p_list)\n",
    "hpe_counts = list(hpe_counts)\n",
    "hpe_partition = list(hpe_partition)"
   ]
  },
  {
   "cell_type": "markdown",
   "metadata": {},
   "source": [
    "## Chi-Square Test"
   ]
  },
  {
   "cell_type": "code",
   "execution_count": 103,
   "metadata": {},
   "outputs": [
    {
     "data": {
      "text/plain": [
       "Power_divergenceResult(statistic=4.823731732046528, pvalue=0.18516885041107395)"
      ]
     },
     "execution_count": 103,
     "metadata": {},
     "output_type": "execute_result"
    }
   ],
   "source": [
    "\n",
    "hpe_counts.insert(0,0)\n",
    "hpe_counts.append(0)\n",
    "hpe_partition, hpe_counts = merge_partition(0,hpe_partition,hpe_counts)                                           \n",
    "hpe_partition, hpe_counts = merge_partition(0,hpe_partition,hpe_counts)\n",
    "hpe_partition, hpe_counts = merge_partition(0,hpe_partition,hpe_counts)\n",
    "hpe_partition, hpe_counts = merge_partition(0,hpe_partition,hpe_counts)\n",
    "hpe_partition, hpe_counts = merge_partition(len(hpe_partition)-1, hpe_partition, hpe_counts)\n",
    "hpe_partition, hpe_counts = merge_partition(len(hpe_partition)-1, hpe_partition, hpe_counts)\n",
    "partial_norm_cdf = functools.partial(stats.norm.cdf, loc = statistics.mean(p_list), scale = statistics.stdev(p_list))\n",
    "expected_counts = expected_freq_computation_continuous(partial_norm_cdf,hpe_partition,sum(hpe_counts))\n",
    "stats.chisquare(hpe_counts,expected_counts, 2)"
   ]
  },
  {
   "cell_type": "code",
   "execution_count": 104,
   "metadata": {},
   "outputs": [
    {
     "data": {
      "image/png": "[encoded data removed]",
      "text/plain": [
       "<matplotlib.figure.Figure at 0x295b956b390>"
      ]
     },
     "metadata": {},
     "output_type": "display_data"
    }
   ],
   "source": [
    "fig = qqplot(np.array(p_list), line='s')"
   ]
  },
  {
   "cell_type": "markdown",
   "metadata": {},
   "source": [
    "## Analysis\n",
    "\n",
    "QQ-plot and P-value both indicate normality"
   ]
  },
  {
   "cell_type": "markdown",
   "metadata": {},
   "source": [
    "# A Meticulous Analysis of the Initial Angles of the Particles"
   ]
  },
  {
   "cell_type": "code",
   "execution_count": 105,
   "metadata": {},
   "outputs": [],
   "source": [
    "thetas = []\n",
    "phis = []\n",
    "norms = []\n",
    "for i in range(0,particles_list[0].shape[0]):\n",
    "    x = particles_list[0]['px'][i]\n",
    "    y = particles_list[0]['py'][i]\n",
    "    z = particles_list[0]['pz'][i]\n",
    "    norms.append(math.sqrt(x*x + y*y + z*z))\n",
    "    thetas.append(math.atan2(y,x))\n",
    "    phis.append(math.acos(z/norms[i]))\n",
    "    "
   ]
  },
  {
   "cell_type": "code",
   "execution_count": 106,
   "metadata": {},
   "outputs": [
    {
     "data": {
      "image/png": "[encoded data removed]",
      "text/plain": [
       "<matplotlib.figure.Figure at 0x295b8143eb8>"
      ]
     },
     "metadata": {},
     "output_type": "display_data"
    }
   ],
   "source": [
    "plt.xlabel('$\\theta$')\n",
    "plt.ylabel('Counts')\n",
    "plt.title('Histogram of $\\theta$ from Initial Particle Momenta')\n",
    "hpe_counts, hpe_partition, _ = plt.hist(thetas)\n",
    "hpe_counts = list(hpe_counts)\n",
    "hpe_partition = list(hpe_partition)"
   ]
  },
  {
   "cell_type": "markdown",
   "metadata": {},
   "source": [
    "## $\\theta$ Chi-Square Test for Uniformity"
   ]
  },
  {
   "cell_type": "code",
   "execution_count": 107,
   "metadata": {},
   "outputs": [
    {
     "data": {
      "text/plain": [
       "Power_divergenceResult(statistic=12.173285492946379, pvalue=0.09500236619340857)"
      ]
     },
     "execution_count": 107,
     "metadata": {},
     "output_type": "execute_result"
    }
   ],
   "source": [
    "hpe_counts.insert(0,0)\n",
    "hpe_counts.append(0)\n",
    "a = min(thetas)\n",
    "b = max(thetas)\n",
    "hpe_partition, hpe_counts = merge_partition(0,hpe_partition,hpe_counts)\n",
    "hpe_partition, hpe_counts = merge_partition(len(hpe_partition)-1, hpe_partition, hpe_counts)\n",
    "partial_unif_cdf = functools.partial(stats.uniform.cdf, loc = a, scale = b-a)\n",
    "expected_counts = expected_freq_computation_continuous(partial_unif_cdf,hpe_partition,sum(hpe_counts))\n",
    "stats.chisquare(hpe_counts,expected_counts, 2)"
   ]
  },
  {
   "cell_type": "code",
   "execution_count": 108,
   "metadata": {},
   "outputs": [
    {
     "data": {
      "text/plain": [
       "(array([2653.,  995.,  866.,  769.,  859.,  860.,  833.,  771., 1025.,\n",
       "        2632.]),\n",
       " array([0.03662991, 0.34383297, 0.65103603, 0.95823909, 1.26544215,\n",
       "        1.57264521, 1.87984827, 2.18705133, 2.49425439, 2.80145744,\n",
       "        3.1086605 ]),\n",
       " <a list of 10 Patch objects>)"
      ]
     },
     "execution_count": 108,
     "metadata": {},
     "output_type": "execute_result"
    },
    {
     "data": {
      "image/png": "[encoded data removed]",
      "text/plain": [
       "<matplotlib.figure.Figure at 0x2959260e668>"
      ]
     },
     "metadata": {},
     "output_type": "display_data"
    }
   ],
   "source": [
    "plt.xlabel('$\\phi$')\n",
    "plt.ylabel('Counts')\n",
    "plt.title('Histogram of $\\phi$ from Initial Particle Momenta')\n",
    "plt.hist(phis)"
   ]
  },
  {
   "cell_type": "code",
   "execution_count": 109,
   "metadata": {},
   "outputs": [
    {
     "data": {
      "text/plain": [
       "(array([1.2235e+04, 2.1000e+01, 5.0000e+00, 1.0000e+00, 0.0000e+00,\n",
       "        0.0000e+00, 0.0000e+00, 0.0000e+00, 0.0000e+00, 1.0000e+00]),\n",
       " array([1.00735817e-01, 4.62667451e+01, 9.24327543e+01, 1.38598764e+02,\n",
       "        1.84764773e+02, 2.30930782e+02, 2.77096791e+02, 3.23262801e+02,\n",
       "        3.69428810e+02, 4.15594819e+02, 4.61760828e+02]),\n",
       " <a list of 10 Patch objects>)"
      ]
     },
     "execution_count": 109,
     "metadata": {},
     "output_type": "execute_result"
    },
    {
     "data": {
      "image/png": "[encoded data removed]",
      "text/plain": [
       "<matplotlib.figure.Figure at 0x295aa0d17b8>"
      ]
     },
     "metadata": {},
     "output_type": "display_data"
    }
   ],
   "source": [
    "plt.xlabel('$||P||$')\n",
    "plt.ylabel('Counts')\n",
    "plt.title('Histogram of Norms of Initial Particle Momenta')\n",
    "plt.hist(norms)"
   ]
  },
  {
   "cell_type": "markdown",
   "metadata": {},
   "source": [
    "## Filtering out IQR"
   ]
  },
  {
   "cell_type": "code",
   "execution_count": 110,
   "metadata": {},
   "outputs": [
    {
     "name": "stdout",
     "output_type": "stream",
     "text": [
      "              0\n",
      "0      0.385964\n",
      "1      2.271788\n",
      "2      1.124602\n",
      "3      1.227834\n",
      "5      3.983595\n",
      "6      6.200329\n",
      "7      0.546923\n",
      "8      1.794422\n",
      "9      0.248157\n",
      "10     0.535478\n",
      "11     5.378609\n",
      "12     5.272305\n",
      "13     5.818588\n",
      "15     4.007491\n",
      "16     6.984887\n",
      "17     3.663112\n",
      "18     2.267978\n",
      "19     1.005222\n",
      "20     4.643914\n",
      "21     7.518519\n",
      "22     1.622256\n",
      "23     1.034061\n",
      "24     2.306245\n",
      "25     0.573479\n",
      "26     0.333182\n",
      "27     1.699170\n",
      "28     5.451048\n",
      "29     0.298398\n",
      "30     0.731802\n",
      "31     0.505140\n",
      "...         ...\n",
      "12233  0.840950\n",
      "12234  2.851312\n",
      "12235  0.858193\n",
      "12236  1.211865\n",
      "12237  0.388219\n",
      "12238  0.806105\n",
      "12239  0.262644\n",
      "12240  0.133099\n",
      "12241  0.134767\n",
      "12242  0.438728\n",
      "12243  0.606220\n",
      "12244  1.303399\n",
      "12245  1.305734\n",
      "12246  0.138008\n",
      "12247  0.492097\n",
      "12248  0.223443\n",
      "12249  0.284233\n",
      "12250  0.251187\n",
      "12251  0.202943\n",
      "12252  0.446556\n",
      "12253  1.079898\n",
      "12254  0.186033\n",
      "12255  0.785772\n",
      "12256  1.002594\n",
      "12257  1.042459\n",
      "12258  0.185900\n",
      "12259  0.300697\n",
      "12260  1.347183\n",
      "12261  0.431467\n",
      "12262  0.192788\n",
      "\n",
      "[10987 rows x 1 columns]\n"
     ]
    }
   ],
   "source": [
    "normsdf = pd.DataFrame(norms)\n",
    "Q1 = normsdf[0].quantile(0.25)\n",
    "Q3 = normsdf[0].quantile(0.75)\n",
    "IQR = Q3 - Q1\n",
    "\n",
    "normsdf_iqr = normsdf[(Q1 - 1.5*IQR <= normsdf[0]) & (normsdf[0] <= Q3 + 1.5*IQR)]\n",
    "\n",
    "print(normsdf_iqr)\n"
   ]
  },
  {
   "cell_type": "code",
   "execution_count": 111,
   "metadata": {},
   "outputs": [
    {
     "data": {
      "image/png": "[encoded data removed]",
      "text/plain": [
       "<matplotlib.figure.Figure at 0x29592645128>"
      ]
     },
     "metadata": {},
     "output_type": "display_data"
    }
   ],
   "source": [
    "plt.xlabel('$||P||$')\n",
    "plt.ylabel('Counts')\n",
    "plt.title('Histogram of Norms of Initial Particle Momenta with Filtered Outliers')\n",
    "hpe_counts, hpe_partition, _ = plt.hist(normsdf_iqr[0])\n",
    "hpe_counts = list(hpe_counts)\n",
    "hpe_partition = list(hpe_partition)"
   ]
  },
  {
   "cell_type": "code",
   "execution_count": 112,
   "metadata": {},
   "outputs": [
    {
     "name": "stdout",
     "output_type": "stream",
     "text": [
      "[5552.0, 1773.0, 1028.0, 709.0, 547.0, 420.0, 320.0, 271.0, 199.0, 168.0]\n",
      "[0.8488899874155892, 1.5970441582471606, 2.345198329078732, 3.0933524999103037, 3.8415066707418752, 4.589660841573446, 5.337815012405017, 6.085969183236589, 6.8341233540681605]\n",
      "[4552.557976583711, 2419.148837660243, 1509.6245809406678, 942.0529815703527, 587.8705416498982, 366.84961514973526, 228.92564025713082, 142.8567636516299, 89.14709116067226, 147.96597137595933]\n"
     ]
    },
    {
     "data": {
      "text/plain": [
       "Power_divergenceResult(statistic=903.1068007763638, pvalue=1.0243592142950978e-190)"
      ]
     },
     "execution_count": 112,
     "metadata": {},
     "output_type": "execute_result"
    }
   ],
   "source": [
    "hpe_counts.insert(0,0)\n",
    "hpe_counts.append(0)\n",
    "hpe_partition, hpe_counts = merge_partition(0,hpe_partition,hpe_counts)\n",
    "hpe_partition, hpe_counts = merge_partition(len(hpe_partition)-1, hpe_partition, hpe_counts)\n",
    "print(hpe_counts)\n",
    "print(hpe_partition)\n",
    "partial_unif_cdf = functools.partial(stats.expon.cdf, loc = 0, scale = statistics.mean(normsdf_iqr[0]))\n",
    "expected_counts = expected_freq_computation_continuous(partial_unif_cdf,hpe_partition,sum(hpe_counts))\n",
    "print(expected_counts)\n",
    "stats.chisquare(hpe_counts,expected_counts, 2)"
   ]
  }
 ],
 "metadata": {
  "kernelspec": {
   "display_name": "Python 3",
   "language": "python",
   "name": "python3"
  },
  "language_info": {
   "codemirror_mode": {
    "name": "ipython",
    "version": 3
   },
   "file_extension": ".py",
   "mimetype": "text/x-python",
   "name": "python",
   "nbconvert_exporter": "python",
   "pygments_lexer": "ipython3",
   "version": "3.6.4"
  }
 },
 "nbformat": 4,
 "nbformat_minor": 2
}
